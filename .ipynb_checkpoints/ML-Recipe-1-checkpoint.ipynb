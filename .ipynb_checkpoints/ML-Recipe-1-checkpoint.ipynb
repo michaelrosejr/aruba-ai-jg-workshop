{
 "cells": [
  {
   "cell_type": "code",
   "execution_count": 3,
   "id": "06979c32-f80e-469c-932c-4ba39adbd1a5",
   "metadata": {
    "scrolled": true
   },
   "outputs": [
    {
     "data": {
      "text/plain": [
       "'0 = Apple'"
      ]
     },
     "metadata": {},
     "output_type": "display_data"
    },
    {
     "data": {
      "text/plain": [
       "'1 = Orange'"
      ]
     },
     "metadata": {},
     "output_type": "display_data"
    },
    {
     "data": {
      "text/plain": [
       "'Weight: [150, 0]'"
      ]
     },
     "metadata": {},
     "output_type": "display_data"
    },
    {
     "data": {
      "text/plain": [
       "'Orange'"
      ]
     },
     "execution_count": 3,
     "metadata": {},
     "output_type": "execute_result"
    }
   ],
   "source": [
    "\n",
    "from IPython.display import display as print\n",
    "from IPython.display import Image\n",
    "\n",
    "from sklearn import tree\n",
    "\n",
    "#\n",
    "# 0 = Apple\n",
    "# 1 - Orange\n",
    "#\n",
    "# This doesn't work well with Kaggle or Google CoLab\n",
    "# display(Image(filename='images/AppleOrage-TrainingData.png'))\n",
    "\n",
    "features = [[140, 1], [130, 1], [150, 0], [170, 0]]\n",
    "labels = [0, 0, 1, 1]\n",
    "clf = tree.DecisionTreeClassifier()\n",
    "clf = clf.fit(features, labels)\n",
    "\n",
    "names  = ['Apple', 'Orange']\n",
    "\n",
    "# Legend\n",
    "print(\"0 = Apple\")\n",
    "print(\"1 = Orange\")\n",
    "\n",
    "# Prediction\n",
    "prediction = [150, 0]\n",
    "\n",
    "# Print prediction\n",
    "print(f\"Weight: {prediction}\")\n",
    "clf.predict([prediction])[0]\n",
    "names[clf.predict([prediction])[0]]\n",
    "\n"
   ]
  },
  {
   "cell_type": "code",
   "execution_count": null,
   "id": "169344c2-e78d-4118-9f34-1d241820c87a",
   "metadata": {},
   "outputs": [],
   "source": []
  }
 ],
 "metadata": {
  "kernelspec": {
   "display_name": "local-venv-kernel",
   "language": "python",
   "name": "local-venv-kernel"
  },
  "language_info": {
   "codemirror_mode": {
    "name": "ipython",
    "version": 3
   },
   "file_extension": ".py",
   "mimetype": "text/x-python",
   "name": "python",
   "nbconvert_exporter": "python",
   "pygments_lexer": "ipython3",
   "version": "3.10.3"
  }
 },
 "nbformat": 4,
 "nbformat_minor": 5
}
