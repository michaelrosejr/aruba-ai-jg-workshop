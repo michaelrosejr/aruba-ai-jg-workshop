{
 "cells": [
  {
   "cell_type": "code",
   "execution_count": 5,
   "id": "c7887752-c907-442d-bdb8-9d62d3c002a5",
   "metadata": {},
   "outputs": [
    {
     "name": "stdout",
     "output_type": "stream",
     "text": [
      "['sepal length (cm)', 'sepal width (cm)', 'petal length (cm)', 'petal width (cm)']\n"
     ]
    }
   ],
   "source": [
    "# This lession requires graphviz to be installed\n",
    "# on the users workstation\n",
    "# mac: brew install graphviz\n",
    "# ubuntu: sudo apt-get install graphviz\n",
    "# windows: ???\n",
    "#\n",
    "\n",
    "from IPython.display import display as print\n",
    "\n",
    "\n",
    "# Load Iris flower dataset fro sklearn\n",
    "#\n",
    "\n",
    "from sklearn.datasets import load_iris\n",
    "iris = load_iris()\n",
    "\n",
    "# Print the names for the dataset types\n",
    "# sepal is the (usually) green leaf of the flower\n",
    "# petal is the non-green leaf/petal of the flower\n",
    "#\n",
    "print(iris.feature_names)\n"
   ]
  },
  {
   "cell_type": "code",
   "execution_count": 6,
   "id": "79ad214b-29f3-4fc8-9396-186b4c78ddc0",
   "metadata": {},
   "outputs": [
    {
     "name": "stdout",
     "output_type": "stream",
     "text": [
      "['setosa' 'versicolor' 'virginica']\n"
     ]
    }
   ],
   "source": [
    "print(iris.target_names)\n"
   ]
  },
  {
   "cell_type": "code",
   "execution_count": 7,
   "id": "6b6bc95a-80be-46c9-af09-138359562a51",
   "metadata": {},
   "outputs": [
    {
     "name": "stdout",
     "output_type": "stream",
     "text": [
      "[5.1 3.5 1.4 0.2]\n"
     ]
    }
   ],
   "source": [
    "print(iris.data[0])"
   ]
  },
  {
   "cell_type": "code",
   "execution_count": 4,
   "id": "aca8b9e3-9912-41a1-ba54-fbd1f0ba4455",
   "metadata": {},
   "outputs": [
    {
     "name": "stdout",
     "output_type": "stream",
     "text": [
      "0\n"
     ]
    }
   ],
   "source": [
    "print(iris.target[0])"
   ]
  },
  {
   "cell_type": "code",
   "execution_count": 36,
   "id": "97b20523-8e16-4918-9b60-b3923a1e63d9",
   "metadata": {},
   "outputs": [
    {
     "data": {
      "text/plain": [
       "'Example 0: label 0: features [5.1 3.5 1.4 0.2]'"
      ]
     },
     "metadata": {},
     "output_type": "display_data"
    },
    {
     "data": {
      "text/plain": [
       "'Example 1: label 0: features [4.9 3.  1.4 0.2]'"
      ]
     },
     "metadata": {},
     "output_type": "display_data"
    },
    {
     "data": {
      "text/plain": [
       "'Example 2: label 0: features [4.7 3.2 1.3 0.2]'"
      ]
     },
     "metadata": {},
     "output_type": "display_data"
    },
    {
     "data": {
      "text/plain": [
       "'Example 3: label 0: features [4.6 3.1 1.5 0.2]'"
      ]
     },
     "metadata": {},
     "output_type": "display_data"
    },
    {
     "data": {
      "text/plain": [
       "'Example 4: label 0: features [5.  3.6 1.4 0.2]'"
      ]
     },
     "metadata": {},
     "output_type": "display_data"
    },
    {
     "data": {
      "text/plain": [
       "'Example 5: label 0: features [5.4 3.9 1.7 0.4]'"
      ]
     },
     "metadata": {},
     "output_type": "display_data"
    },
    {
     "data": {
      "text/plain": [
       "'Example 6: label 0: features [4.6 3.4 1.4 0.3]'"
      ]
     },
     "metadata": {},
     "output_type": "display_data"
    },
    {
     "data": {
      "text/plain": [
       "'Example 7: label 0: features [5.  3.4 1.5 0.2]'"
      ]
     },
     "metadata": {},
     "output_type": "display_data"
    },
    {
     "data": {
      "text/plain": [
       "'Example 8: label 0: features [4.4 2.9 1.4 0.2]'"
      ]
     },
     "metadata": {},
     "output_type": "display_data"
    },
    {
     "data": {
      "text/plain": [
       "'Example 9: label 0: features [4.9 3.1 1.5 0.1]'"
      ]
     },
     "metadata": {},
     "output_type": "display_data"
    },
    {
     "data": {
      "text/plain": [
       "'Example 10: label 0: features [5.4 3.7 1.5 0.2]'"
      ]
     },
     "metadata": {},
     "output_type": "display_data"
    },
    {
     "data": {
      "text/plain": [
       "'Example 11: label 0: features [4.8 3.4 1.6 0.2]'"
      ]
     },
     "metadata": {},
     "output_type": "display_data"
    },
    {
     "data": {
      "text/plain": [
       "'Example 12: label 0: features [4.8 3.  1.4 0.1]'"
      ]
     },
     "metadata": {},
     "output_type": "display_data"
    },
    {
     "data": {
      "text/plain": [
       "'Example 13: label 0: features [4.3 3.  1.1 0.1]'"
      ]
     },
     "metadata": {},
     "output_type": "display_data"
    },
    {
     "data": {
      "text/plain": [
       "'Example 14: label 0: features [5.8 4.  1.2 0.2]'"
      ]
     },
     "metadata": {},
     "output_type": "display_data"
    },
    {
     "data": {
      "text/plain": [
       "'Example 15: label 0: features [5.7 4.4 1.5 0.4]'"
      ]
     },
     "metadata": {},
     "output_type": "display_data"
    },
    {
     "data": {
      "text/plain": [
       "'Example 16: label 0: features [5.4 3.9 1.3 0.4]'"
      ]
     },
     "metadata": {},
     "output_type": "display_data"
    },
    {
     "data": {
      "text/plain": [
       "'Example 17: label 0: features [5.1 3.5 1.4 0.3]'"
      ]
     },
     "metadata": {},
     "output_type": "display_data"
    },
    {
     "data": {
      "text/plain": [
       "'Example 18: label 0: features [5.7 3.8 1.7 0.3]'"
      ]
     },
     "metadata": {},
     "output_type": "display_data"
    },
    {
     "data": {
      "text/plain": [
       "'Example 19: label 0: features [5.1 3.8 1.5 0.3]'"
      ]
     },
     "metadata": {},
     "output_type": "display_data"
    },
    {
     "data": {
      "text/plain": [
       "'Example 20: label 0: features [5.4 3.4 1.7 0.2]'"
      ]
     },
     "metadata": {},
     "output_type": "display_data"
    },
    {
     "data": {
      "text/plain": [
       "'Example 21: label 0: features [5.1 3.7 1.5 0.4]'"
      ]
     },
     "metadata": {},
     "output_type": "display_data"
    },
    {
     "data": {
      "text/plain": [
       "'Example 22: label 0: features [4.6 3.6 1.  0.2]'"
      ]
     },
     "metadata": {},
     "output_type": "display_data"
    },
    {
     "data": {
      "text/plain": [
       "'Example 23: label 0: features [5.1 3.3 1.7 0.5]'"
      ]
     },
     "metadata": {},
     "output_type": "display_data"
    },
    {
     "data": {
      "text/plain": [
       "'Example 24: label 0: features [4.8 3.4 1.9 0.2]'"
      ]
     },
     "metadata": {},
     "output_type": "display_data"
    },
    {
     "data": {
      "text/plain": [
       "'Example 25: label 0: features [5.  3.  1.6 0.2]'"
      ]
     },
     "metadata": {},
     "output_type": "display_data"
    },
    {
     "data": {
      "text/plain": [
       "'Example 26: label 0: features [5.  3.4 1.6 0.4]'"
      ]
     },
     "metadata": {},
     "output_type": "display_data"
    },
    {
     "data": {
      "text/plain": [
       "'Example 27: label 0: features [5.2 3.5 1.5 0.2]'"
      ]
     },
     "metadata": {},
     "output_type": "display_data"
    },
    {
     "data": {
      "text/plain": [
       "'Example 28: label 0: features [5.2 3.4 1.4 0.2]'"
      ]
     },
     "metadata": {},
     "output_type": "display_data"
    },
    {
     "data": {
      "text/plain": [
       "'Example 29: label 0: features [4.7 3.2 1.6 0.2]'"
      ]
     },
     "metadata": {},
     "output_type": "display_data"
    },
    {
     "data": {
      "text/plain": [
       "'Example 30: label 0: features [4.8 3.1 1.6 0.2]'"
      ]
     },
     "metadata": {},
     "output_type": "display_data"
    },
    {
     "data": {
      "text/plain": [
       "'Example 31: label 0: features [5.4 3.4 1.5 0.4]'"
      ]
     },
     "metadata": {},
     "output_type": "display_data"
    },
    {
     "data": {
      "text/plain": [
       "'Example 32: label 0: features [5.2 4.1 1.5 0.1]'"
      ]
     },
     "metadata": {},
     "output_type": "display_data"
    },
    {
     "data": {
      "text/plain": [
       "'Example 33: label 0: features [5.5 4.2 1.4 0.2]'"
      ]
     },
     "metadata": {},
     "output_type": "display_data"
    },
    {
     "data": {
      "text/plain": [
       "'Example 34: label 0: features [4.9 3.1 1.5 0.2]'"
      ]
     },
     "metadata": {},
     "output_type": "display_data"
    },
    {
     "data": {
      "text/plain": [
       "'Example 35: label 0: features [5.  3.2 1.2 0.2]'"
      ]
     },
     "metadata": {},
     "output_type": "display_data"
    },
    {
     "data": {
      "text/plain": [
       "'Example 36: label 0: features [5.5 3.5 1.3 0.2]'"
      ]
     },
     "metadata": {},
     "output_type": "display_data"
    },
    {
     "data": {
      "text/plain": [
       "'Example 37: label 0: features [4.9 3.6 1.4 0.1]'"
      ]
     },
     "metadata": {},
     "output_type": "display_data"
    },
    {
     "data": {
      "text/plain": [
       "'Example 38: label 0: features [4.4 3.  1.3 0.2]'"
      ]
     },
     "metadata": {},
     "output_type": "display_data"
    },
    {
     "data": {
      "text/plain": [
       "'Example 39: label 0: features [5.1 3.4 1.5 0.2]'"
      ]
     },
     "metadata": {},
     "output_type": "display_data"
    },
    {
     "data": {
      "text/plain": [
       "'Example 40: label 0: features [5.  3.5 1.3 0.3]'"
      ]
     },
     "metadata": {},
     "output_type": "display_data"
    },
    {
     "data": {
      "text/plain": [
       "'Example 41: label 0: features [4.5 2.3 1.3 0.3]'"
      ]
     },
     "metadata": {},
     "output_type": "display_data"
    },
    {
     "data": {
      "text/plain": [
       "'Example 42: label 0: features [4.4 3.2 1.3 0.2]'"
      ]
     },
     "metadata": {},
     "output_type": "display_data"
    },
    {
     "data": {
      "text/plain": [
       "'Example 43: label 0: features [5.  3.5 1.6 0.6]'"
      ]
     },
     "metadata": {},
     "output_type": "display_data"
    },
    {
     "data": {
      "text/plain": [
       "'Example 44: label 0: features [5.1 3.8 1.9 0.4]'"
      ]
     },
     "metadata": {},
     "output_type": "display_data"
    },
    {
     "data": {
      "text/plain": [
       "'Example 45: label 0: features [4.8 3.  1.4 0.3]'"
      ]
     },
     "metadata": {},
     "output_type": "display_data"
    },
    {
     "data": {
      "text/plain": [
       "'Example 46: label 0: features [5.1 3.8 1.6 0.2]'"
      ]
     },
     "metadata": {},
     "output_type": "display_data"
    },
    {
     "data": {
      "text/plain": [
       "'Example 47: label 0: features [4.6 3.2 1.4 0.2]'"
      ]
     },
     "metadata": {},
     "output_type": "display_data"
    },
    {
     "data": {
      "text/plain": [
       "'Example 48: label 0: features [5.3 3.7 1.5 0.2]'"
      ]
     },
     "metadata": {},
     "output_type": "display_data"
    },
    {
     "data": {
      "text/plain": [
       "'Example 49: label 0: features [5.  3.3 1.4 0.2]'"
      ]
     },
     "metadata": {},
     "output_type": "display_data"
    },
    {
     "data": {
      "text/plain": [
       "'Example 50: label 1: features [7.  3.2 4.7 1.4]'"
      ]
     },
     "metadata": {},
     "output_type": "display_data"
    },
    {
     "data": {
      "text/plain": [
       "'Example 51: label 1: features [6.4 3.2 4.5 1.5]'"
      ]
     },
     "metadata": {},
     "output_type": "display_data"
    },
    {
     "data": {
      "text/plain": [
       "'Example 52: label 1: features [6.9 3.1 4.9 1.5]'"
      ]
     },
     "metadata": {},
     "output_type": "display_data"
    },
    {
     "data": {
      "text/plain": [
       "'Example 53: label 1: features [5.5 2.3 4.  1.3]'"
      ]
     },
     "metadata": {},
     "output_type": "display_data"
    },
    {
     "data": {
      "text/plain": [
       "'Example 54: label 1: features [6.5 2.8 4.6 1.5]'"
      ]
     },
     "metadata": {},
     "output_type": "display_data"
    },
    {
     "data": {
      "text/plain": [
       "'Example 55: label 1: features [5.7 2.8 4.5 1.3]'"
      ]
     },
     "metadata": {},
     "output_type": "display_data"
    },
    {
     "data": {
      "text/plain": [
       "'Example 56: label 1: features [6.3 3.3 4.7 1.6]'"
      ]
     },
     "metadata": {},
     "output_type": "display_data"
    },
    {
     "data": {
      "text/plain": [
       "'Example 57: label 1: features [4.9 2.4 3.3 1. ]'"
      ]
     },
     "metadata": {},
     "output_type": "display_data"
    },
    {
     "data": {
      "text/plain": [
       "'Example 58: label 1: features [6.6 2.9 4.6 1.3]'"
      ]
     },
     "metadata": {},
     "output_type": "display_data"
    },
    {
     "data": {
      "text/plain": [
       "'Example 59: label 1: features [5.2 2.7 3.9 1.4]'"
      ]
     },
     "metadata": {},
     "output_type": "display_data"
    },
    {
     "data": {
      "text/plain": [
       "'Example 60: label 1: features [5.  2.  3.5 1. ]'"
      ]
     },
     "metadata": {},
     "output_type": "display_data"
    },
    {
     "data": {
      "text/plain": [
       "'Example 61: label 1: features [5.9 3.  4.2 1.5]'"
      ]
     },
     "metadata": {},
     "output_type": "display_data"
    },
    {
     "data": {
      "text/plain": [
       "'Example 62: label 1: features [6.  2.2 4.  1. ]'"
      ]
     },
     "metadata": {},
     "output_type": "display_data"
    },
    {
     "data": {
      "text/plain": [
       "'Example 63: label 1: features [6.1 2.9 4.7 1.4]'"
      ]
     },
     "metadata": {},
     "output_type": "display_data"
    },
    {
     "data": {
      "text/plain": [
       "'Example 64: label 1: features [5.6 2.9 3.6 1.3]'"
      ]
     },
     "metadata": {},
     "output_type": "display_data"
    },
    {
     "data": {
      "text/plain": [
       "'Example 65: label 1: features [6.7 3.1 4.4 1.4]'"
      ]
     },
     "metadata": {},
     "output_type": "display_data"
    },
    {
     "data": {
      "text/plain": [
       "'Example 66: label 1: features [5.6 3.  4.5 1.5]'"
      ]
     },
     "metadata": {},
     "output_type": "display_data"
    },
    {
     "data": {
      "text/plain": [
       "'Example 67: label 1: features [5.8 2.7 4.1 1. ]'"
      ]
     },
     "metadata": {},
     "output_type": "display_data"
    },
    {
     "data": {
      "text/plain": [
       "'Example 68: label 1: features [6.2 2.2 4.5 1.5]'"
      ]
     },
     "metadata": {},
     "output_type": "display_data"
    },
    {
     "data": {
      "text/plain": [
       "'Example 69: label 1: features [5.6 2.5 3.9 1.1]'"
      ]
     },
     "metadata": {},
     "output_type": "display_data"
    },
    {
     "data": {
      "text/plain": [
       "'Example 70: label 1: features [5.9 3.2 4.8 1.8]'"
      ]
     },
     "metadata": {},
     "output_type": "display_data"
    },
    {
     "data": {
      "text/plain": [
       "'Example 71: label 1: features [6.1 2.8 4.  1.3]'"
      ]
     },
     "metadata": {},
     "output_type": "display_data"
    },
    {
     "data": {
      "text/plain": [
       "'Example 72: label 1: features [6.3 2.5 4.9 1.5]'"
      ]
     },
     "metadata": {},
     "output_type": "display_data"
    },
    {
     "data": {
      "text/plain": [
       "'Example 73: label 1: features [6.1 2.8 4.7 1.2]'"
      ]
     },
     "metadata": {},
     "output_type": "display_data"
    },
    {
     "data": {
      "text/plain": [
       "'Example 74: label 1: features [6.4 2.9 4.3 1.3]'"
      ]
     },
     "metadata": {},
     "output_type": "display_data"
    },
    {
     "data": {
      "text/plain": [
       "'Example 75: label 1: features [6.6 3.  4.4 1.4]'"
      ]
     },
     "metadata": {},
     "output_type": "display_data"
    },
    {
     "data": {
      "text/plain": [
       "'Example 76: label 1: features [6.8 2.8 4.8 1.4]'"
      ]
     },
     "metadata": {},
     "output_type": "display_data"
    },
    {
     "data": {
      "text/plain": [
       "'Example 77: label 1: features [6.7 3.  5.  1.7]'"
      ]
     },
     "metadata": {},
     "output_type": "display_data"
    },
    {
     "data": {
      "text/plain": [
       "'Example 78: label 1: features [6.  2.9 4.5 1.5]'"
      ]
     },
     "metadata": {},
     "output_type": "display_data"
    },
    {
     "data": {
      "text/plain": [
       "'Example 79: label 1: features [5.7 2.6 3.5 1. ]'"
      ]
     },
     "metadata": {},
     "output_type": "display_data"
    },
    {
     "data": {
      "text/plain": [
       "'Example 80: label 1: features [5.5 2.4 3.8 1.1]'"
      ]
     },
     "metadata": {},
     "output_type": "display_data"
    },
    {
     "data": {
      "text/plain": [
       "'Example 81: label 1: features [5.5 2.4 3.7 1. ]'"
      ]
     },
     "metadata": {},
     "output_type": "display_data"
    },
    {
     "data": {
      "text/plain": [
       "'Example 82: label 1: features [5.8 2.7 3.9 1.2]'"
      ]
     },
     "metadata": {},
     "output_type": "display_data"
    },
    {
     "data": {
      "text/plain": [
       "'Example 83: label 1: features [6.  2.7 5.1 1.6]'"
      ]
     },
     "metadata": {},
     "output_type": "display_data"
    },
    {
     "data": {
      "text/plain": [
       "'Example 84: label 1: features [5.4 3.  4.5 1.5]'"
      ]
     },
     "metadata": {},
     "output_type": "display_data"
    },
    {
     "data": {
      "text/plain": [
       "'Example 85: label 1: features [6.  3.4 4.5 1.6]'"
      ]
     },
     "metadata": {},
     "output_type": "display_data"
    },
    {
     "data": {
      "text/plain": [
       "'Example 86: label 1: features [6.7 3.1 4.7 1.5]'"
      ]
     },
     "metadata": {},
     "output_type": "display_data"
    },
    {
     "data": {
      "text/plain": [
       "'Example 87: label 1: features [6.3 2.3 4.4 1.3]'"
      ]
     },
     "metadata": {},
     "output_type": "display_data"
    },
    {
     "data": {
      "text/plain": [
       "'Example 88: label 1: features [5.6 3.  4.1 1.3]'"
      ]
     },
     "metadata": {},
     "output_type": "display_data"
    },
    {
     "data": {
      "text/plain": [
       "'Example 89: label 1: features [5.5 2.5 4.  1.3]'"
      ]
     },
     "metadata": {},
     "output_type": "display_data"
    },
    {
     "data": {
      "text/plain": [
       "'Example 90: label 1: features [5.5 2.6 4.4 1.2]'"
      ]
     },
     "metadata": {},
     "output_type": "display_data"
    },
    {
     "data": {
      "text/plain": [
       "'Example 91: label 1: features [6.1 3.  4.6 1.4]'"
      ]
     },
     "metadata": {},
     "output_type": "display_data"
    },
    {
     "data": {
      "text/plain": [
       "'Example 92: label 1: features [5.8 2.6 4.  1.2]'"
      ]
     },
     "metadata": {},
     "output_type": "display_data"
    },
    {
     "data": {
      "text/plain": [
       "'Example 93: label 1: features [5.  2.3 3.3 1. ]'"
      ]
     },
     "metadata": {},
     "output_type": "display_data"
    },
    {
     "data": {
      "text/plain": [
       "'Example 94: label 1: features [5.6 2.7 4.2 1.3]'"
      ]
     },
     "metadata": {},
     "output_type": "display_data"
    },
    {
     "data": {
      "text/plain": [
       "'Example 95: label 1: features [5.7 3.  4.2 1.2]'"
      ]
     },
     "metadata": {},
     "output_type": "display_data"
    },
    {
     "data": {
      "text/plain": [
       "'Example 96: label 1: features [5.7 2.9 4.2 1.3]'"
      ]
     },
     "metadata": {},
     "output_type": "display_data"
    },
    {
     "data": {
      "text/plain": [
       "'Example 97: label 1: features [6.2 2.9 4.3 1.3]'"
      ]
     },
     "metadata": {},
     "output_type": "display_data"
    },
    {
     "data": {
      "text/plain": [
       "'Example 98: label 1: features [5.1 2.5 3.  1.1]'"
      ]
     },
     "metadata": {},
     "output_type": "display_data"
    },
    {
     "data": {
      "text/plain": [
       "'Example 99: label 1: features [5.7 2.8 4.1 1.3]'"
      ]
     },
     "metadata": {},
     "output_type": "display_data"
    },
    {
     "data": {
      "text/plain": [
       "'Example 100: label 2: features [6.3 3.3 6.  2.5]'"
      ]
     },
     "metadata": {},
     "output_type": "display_data"
    },
    {
     "data": {
      "text/plain": [
       "'Example 101: label 2: features [5.8 2.7 5.1 1.9]'"
      ]
     },
     "metadata": {},
     "output_type": "display_data"
    },
    {
     "data": {
      "text/plain": [
       "'Example 102: label 2: features [7.1 3.  5.9 2.1]'"
      ]
     },
     "metadata": {},
     "output_type": "display_data"
    },
    {
     "data": {
      "text/plain": [
       "'Example 103: label 2: features [6.3 2.9 5.6 1.8]'"
      ]
     },
     "metadata": {},
     "output_type": "display_data"
    },
    {
     "data": {
      "text/plain": [
       "'Example 104: label 2: features [6.5 3.  5.8 2.2]'"
      ]
     },
     "metadata": {},
     "output_type": "display_data"
    },
    {
     "data": {
      "text/plain": [
       "'Example 105: label 2: features [7.6 3.  6.6 2.1]'"
      ]
     },
     "metadata": {},
     "output_type": "display_data"
    },
    {
     "data": {
      "text/plain": [
       "'Example 106: label 2: features [4.9 2.5 4.5 1.7]'"
      ]
     },
     "metadata": {},
     "output_type": "display_data"
    },
    {
     "data": {
      "text/plain": [
       "'Example 107: label 2: features [7.3 2.9 6.3 1.8]'"
      ]
     },
     "metadata": {},
     "output_type": "display_data"
    },
    {
     "data": {
      "text/plain": [
       "'Example 108: label 2: features [6.7 2.5 5.8 1.8]'"
      ]
     },
     "metadata": {},
     "output_type": "display_data"
    },
    {
     "data": {
      "text/plain": [
       "'Example 109: label 2: features [7.2 3.6 6.1 2.5]'"
      ]
     },
     "metadata": {},
     "output_type": "display_data"
    },
    {
     "data": {
      "text/plain": [
       "'Example 110: label 2: features [6.5 3.2 5.1 2. ]'"
      ]
     },
     "metadata": {},
     "output_type": "display_data"
    },
    {
     "data": {
      "text/plain": [
       "'Example 111: label 2: features [6.4 2.7 5.3 1.9]'"
      ]
     },
     "metadata": {},
     "output_type": "display_data"
    },
    {
     "data": {
      "text/plain": [
       "'Example 112: label 2: features [6.8 3.  5.5 2.1]'"
      ]
     },
     "metadata": {},
     "output_type": "display_data"
    },
    {
     "data": {
      "text/plain": [
       "'Example 113: label 2: features [5.7 2.5 5.  2. ]'"
      ]
     },
     "metadata": {},
     "output_type": "display_data"
    },
    {
     "data": {
      "text/plain": [
       "'Example 114: label 2: features [5.8 2.8 5.1 2.4]'"
      ]
     },
     "metadata": {},
     "output_type": "display_data"
    },
    {
     "data": {
      "text/plain": [
       "'Example 115: label 2: features [6.4 3.2 5.3 2.3]'"
      ]
     },
     "metadata": {},
     "output_type": "display_data"
    },
    {
     "data": {
      "text/plain": [
       "'Example 116: label 2: features [6.5 3.  5.5 1.8]'"
      ]
     },
     "metadata": {},
     "output_type": "display_data"
    },
    {
     "data": {
      "text/plain": [
       "'Example 117: label 2: features [7.7 3.8 6.7 2.2]'"
      ]
     },
     "metadata": {},
     "output_type": "display_data"
    },
    {
     "data": {
      "text/plain": [
       "'Example 118: label 2: features [7.7 2.6 6.9 2.3]'"
      ]
     },
     "metadata": {},
     "output_type": "display_data"
    },
    {
     "data": {
      "text/plain": [
       "'Example 119: label 2: features [6.  2.2 5.  1.5]'"
      ]
     },
     "metadata": {},
     "output_type": "display_data"
    },
    {
     "data": {
      "text/plain": [
       "'Example 120: label 2: features [6.9 3.2 5.7 2.3]'"
      ]
     },
     "metadata": {},
     "output_type": "display_data"
    },
    {
     "data": {
      "text/plain": [
       "'Example 121: label 2: features [5.6 2.8 4.9 2. ]'"
      ]
     },
     "metadata": {},
     "output_type": "display_data"
    },
    {
     "data": {
      "text/plain": [
       "'Example 122: label 2: features [7.7 2.8 6.7 2. ]'"
      ]
     },
     "metadata": {},
     "output_type": "display_data"
    },
    {
     "data": {
      "text/plain": [
       "'Example 123: label 2: features [6.3 2.7 4.9 1.8]'"
      ]
     },
     "metadata": {},
     "output_type": "display_data"
    },
    {
     "data": {
      "text/plain": [
       "'Example 124: label 2: features [6.7 3.3 5.7 2.1]'"
      ]
     },
     "metadata": {},
     "output_type": "display_data"
    },
    {
     "data": {
      "text/plain": [
       "'Example 125: label 2: features [7.2 3.2 6.  1.8]'"
      ]
     },
     "metadata": {},
     "output_type": "display_data"
    },
    {
     "data": {
      "text/plain": [
       "'Example 126: label 2: features [6.2 2.8 4.8 1.8]'"
      ]
     },
     "metadata": {},
     "output_type": "display_data"
    },
    {
     "data": {
      "text/plain": [
       "'Example 127: label 2: features [6.1 3.  4.9 1.8]'"
      ]
     },
     "metadata": {},
     "output_type": "display_data"
    },
    {
     "data": {
      "text/plain": [
       "'Example 128: label 2: features [6.4 2.8 5.6 2.1]'"
      ]
     },
     "metadata": {},
     "output_type": "display_data"
    },
    {
     "data": {
      "text/plain": [
       "'Example 129: label 2: features [7.2 3.  5.8 1.6]'"
      ]
     },
     "metadata": {},
     "output_type": "display_data"
    },
    {
     "data": {
      "text/plain": [
       "'Example 130: label 2: features [7.4 2.8 6.1 1.9]'"
      ]
     },
     "metadata": {},
     "output_type": "display_data"
    },
    {
     "data": {
      "text/plain": [
       "'Example 131: label 2: features [7.9 3.8 6.4 2. ]'"
      ]
     },
     "metadata": {},
     "output_type": "display_data"
    },
    {
     "data": {
      "text/plain": [
       "'Example 132: label 2: features [6.4 2.8 5.6 2.2]'"
      ]
     },
     "metadata": {},
     "output_type": "display_data"
    },
    {
     "data": {
      "text/plain": [
       "'Example 133: label 2: features [6.3 2.8 5.1 1.5]'"
      ]
     },
     "metadata": {},
     "output_type": "display_data"
    },
    {
     "data": {
      "text/plain": [
       "'Example 134: label 2: features [6.1 2.6 5.6 1.4]'"
      ]
     },
     "metadata": {},
     "output_type": "display_data"
    },
    {
     "data": {
      "text/plain": [
       "'Example 135: label 2: features [7.7 3.  6.1 2.3]'"
      ]
     },
     "metadata": {},
     "output_type": "display_data"
    },
    {
     "data": {
      "text/plain": [
       "'Example 136: label 2: features [6.3 3.4 5.6 2.4]'"
      ]
     },
     "metadata": {},
     "output_type": "display_data"
    },
    {
     "data": {
      "text/plain": [
       "'Example 137: label 2: features [6.4 3.1 5.5 1.8]'"
      ]
     },
     "metadata": {},
     "output_type": "display_data"
    },
    {
     "data": {
      "text/plain": [
       "'Example 138: label 2: features [6.  3.  4.8 1.8]'"
      ]
     },
     "metadata": {},
     "output_type": "display_data"
    },
    {
     "data": {
      "text/plain": [
       "'Example 139: label 2: features [6.9 3.1 5.4 2.1]'"
      ]
     },
     "metadata": {},
     "output_type": "display_data"
    },
    {
     "data": {
      "text/plain": [
       "'Example 140: label 2: features [6.7 3.1 5.6 2.4]'"
      ]
     },
     "metadata": {},
     "output_type": "display_data"
    },
    {
     "data": {
      "text/plain": [
       "'Example 141: label 2: features [6.9 3.1 5.1 2.3]'"
      ]
     },
     "metadata": {},
     "output_type": "display_data"
    },
    {
     "data": {
      "text/plain": [
       "'Example 142: label 2: features [5.8 2.7 5.1 1.9]'"
      ]
     },
     "metadata": {},
     "output_type": "display_data"
    },
    {
     "data": {
      "text/plain": [
       "'Example 143: label 2: features [6.8 3.2 5.9 2.3]'"
      ]
     },
     "metadata": {},
     "output_type": "display_data"
    },
    {
     "data": {
      "text/plain": [
       "'Example 144: label 2: features [6.7 3.3 5.7 2.5]'"
      ]
     },
     "metadata": {},
     "output_type": "display_data"
    },
    {
     "data": {
      "text/plain": [
       "'Example 145: label 2: features [6.7 3.  5.2 2.3]'"
      ]
     },
     "metadata": {},
     "output_type": "display_data"
    },
    {
     "data": {
      "text/plain": [
       "'Example 146: label 2: features [6.3 2.5 5.  1.9]'"
      ]
     },
     "metadata": {},
     "output_type": "display_data"
    },
    {
     "data": {
      "text/plain": [
       "'Example 147: label 2: features [6.5 3.  5.2 2. ]'"
      ]
     },
     "metadata": {},
     "output_type": "display_data"
    },
    {
     "data": {
      "text/plain": [
       "'Example 148: label 2: features [6.2 3.4 5.4 2.3]'"
      ]
     },
     "metadata": {},
     "output_type": "display_data"
    },
    {
     "data": {
      "text/plain": [
       "'Example 149: label 2: features [5.9 3.  5.1 1.8]'"
      ]
     },
     "metadata": {},
     "output_type": "display_data"
    }
   ],
   "source": [
    "#\n",
    "# Print out entire dataset\n",
    "#\n",
    "for i in range(len(iris.target)):\n",
    "    print(f\"Example {i}: label {iris.target[i]}: features {iris.data[i]}\")"
   ]
  },
  {
   "cell_type": "code",
   "execution_count": 38,
   "id": "775892ec-bf6b-429c-bebb-e4ef94e5d142",
   "metadata": {},
   "outputs": [
    {
     "data": {
      "text/plain": [
       "'Example 0: label setosa(0): features [5.1 3.5 1.4 0.2]'"
      ]
     },
     "metadata": {},
     "output_type": "display_data"
    },
    {
     "data": {
      "text/plain": [
       "'Example 1: label setosa(0): features [4.9 3.  1.4 0.2]'"
      ]
     },
     "metadata": {},
     "output_type": "display_data"
    },
    {
     "data": {
      "text/plain": [
       "'Example 2: label setosa(0): features [4.7 3.2 1.3 0.2]'"
      ]
     },
     "metadata": {},
     "output_type": "display_data"
    },
    {
     "data": {
      "text/plain": [
       "'Example 3: label setosa(0): features [4.6 3.1 1.5 0.2]'"
      ]
     },
     "metadata": {},
     "output_type": "display_data"
    },
    {
     "data": {
      "text/plain": [
       "'Example 4: label setosa(0): features [5.  3.6 1.4 0.2]'"
      ]
     },
     "metadata": {},
     "output_type": "display_data"
    },
    {
     "data": {
      "text/plain": [
       "'Example 5: label setosa(0): features [5.4 3.9 1.7 0.4]'"
      ]
     },
     "metadata": {},
     "output_type": "display_data"
    },
    {
     "data": {
      "text/plain": [
       "'Example 6: label setosa(0): features [4.6 3.4 1.4 0.3]'"
      ]
     },
     "metadata": {},
     "output_type": "display_data"
    },
    {
     "data": {
      "text/plain": [
       "'Example 7: label setosa(0): features [5.  3.4 1.5 0.2]'"
      ]
     },
     "metadata": {},
     "output_type": "display_data"
    },
    {
     "data": {
      "text/plain": [
       "'Example 8: label setosa(0): features [4.4 2.9 1.4 0.2]'"
      ]
     },
     "metadata": {},
     "output_type": "display_data"
    },
    {
     "data": {
      "text/plain": [
       "'Example 9: label setosa(0): features [4.9 3.1 1.5 0.1]'"
      ]
     },
     "metadata": {},
     "output_type": "display_data"
    },
    {
     "data": {
      "text/plain": [
       "'Example 10: label setosa(0): features [5.4 3.7 1.5 0.2]'"
      ]
     },
     "metadata": {},
     "output_type": "display_data"
    },
    {
     "data": {
      "text/plain": [
       "'Example 11: label setosa(0): features [4.8 3.4 1.6 0.2]'"
      ]
     },
     "metadata": {},
     "output_type": "display_data"
    },
    {
     "data": {
      "text/plain": [
       "'Example 12: label setosa(0): features [4.8 3.  1.4 0.1]'"
      ]
     },
     "metadata": {},
     "output_type": "display_data"
    },
    {
     "data": {
      "text/plain": [
       "'Example 13: label setosa(0): features [4.3 3.  1.1 0.1]'"
      ]
     },
     "metadata": {},
     "output_type": "display_data"
    },
    {
     "data": {
      "text/plain": [
       "'Example 14: label setosa(0): features [5.8 4.  1.2 0.2]'"
      ]
     },
     "metadata": {},
     "output_type": "display_data"
    },
    {
     "data": {
      "text/plain": [
       "'Example 15: label setosa(0): features [5.7 4.4 1.5 0.4]'"
      ]
     },
     "metadata": {},
     "output_type": "display_data"
    },
    {
     "data": {
      "text/plain": [
       "'Example 16: label setosa(0): features [5.4 3.9 1.3 0.4]'"
      ]
     },
     "metadata": {},
     "output_type": "display_data"
    },
    {
     "data": {
      "text/plain": [
       "'Example 17: label setosa(0): features [5.1 3.5 1.4 0.3]'"
      ]
     },
     "metadata": {},
     "output_type": "display_data"
    },
    {
     "data": {
      "text/plain": [
       "'Example 18: label setosa(0): features [5.7 3.8 1.7 0.3]'"
      ]
     },
     "metadata": {},
     "output_type": "display_data"
    },
    {
     "data": {
      "text/plain": [
       "'Example 19: label setosa(0): features [5.1 3.8 1.5 0.3]'"
      ]
     },
     "metadata": {},
     "output_type": "display_data"
    },
    {
     "data": {
      "text/plain": [
       "'Example 20: label setosa(0): features [5.4 3.4 1.7 0.2]'"
      ]
     },
     "metadata": {},
     "output_type": "display_data"
    },
    {
     "data": {
      "text/plain": [
       "'Example 21: label setosa(0): features [5.1 3.7 1.5 0.4]'"
      ]
     },
     "metadata": {},
     "output_type": "display_data"
    },
    {
     "data": {
      "text/plain": [
       "'Example 22: label setosa(0): features [4.6 3.6 1.  0.2]'"
      ]
     },
     "metadata": {},
     "output_type": "display_data"
    },
    {
     "data": {
      "text/plain": [
       "'Example 23: label setosa(0): features [5.1 3.3 1.7 0.5]'"
      ]
     },
     "metadata": {},
     "output_type": "display_data"
    },
    {
     "data": {
      "text/plain": [
       "'Example 24: label setosa(0): features [4.8 3.4 1.9 0.2]'"
      ]
     },
     "metadata": {},
     "output_type": "display_data"
    },
    {
     "data": {
      "text/plain": [
       "'Example 25: label setosa(0): features [5.  3.  1.6 0.2]'"
      ]
     },
     "metadata": {},
     "output_type": "display_data"
    },
    {
     "data": {
      "text/plain": [
       "'Example 26: label setosa(0): features [5.  3.4 1.6 0.4]'"
      ]
     },
     "metadata": {},
     "output_type": "display_data"
    },
    {
     "data": {
      "text/plain": [
       "'Example 27: label setosa(0): features [5.2 3.5 1.5 0.2]'"
      ]
     },
     "metadata": {},
     "output_type": "display_data"
    },
    {
     "data": {
      "text/plain": [
       "'Example 28: label setosa(0): features [5.2 3.4 1.4 0.2]'"
      ]
     },
     "metadata": {},
     "output_type": "display_data"
    },
    {
     "data": {
      "text/plain": [
       "'Example 29: label setosa(0): features [4.7 3.2 1.6 0.2]'"
      ]
     },
     "metadata": {},
     "output_type": "display_data"
    },
    {
     "data": {
      "text/plain": [
       "'Example 30: label setosa(0): features [4.8 3.1 1.6 0.2]'"
      ]
     },
     "metadata": {},
     "output_type": "display_data"
    },
    {
     "data": {
      "text/plain": [
       "'Example 31: label setosa(0): features [5.4 3.4 1.5 0.4]'"
      ]
     },
     "metadata": {},
     "output_type": "display_data"
    },
    {
     "data": {
      "text/plain": [
       "'Example 32: label setosa(0): features [5.2 4.1 1.5 0.1]'"
      ]
     },
     "metadata": {},
     "output_type": "display_data"
    },
    {
     "data": {
      "text/plain": [
       "'Example 33: label setosa(0): features [5.5 4.2 1.4 0.2]'"
      ]
     },
     "metadata": {},
     "output_type": "display_data"
    },
    {
     "data": {
      "text/plain": [
       "'Example 34: label setosa(0): features [4.9 3.1 1.5 0.2]'"
      ]
     },
     "metadata": {},
     "output_type": "display_data"
    },
    {
     "data": {
      "text/plain": [
       "'Example 35: label setosa(0): features [5.  3.2 1.2 0.2]'"
      ]
     },
     "metadata": {},
     "output_type": "display_data"
    },
    {
     "data": {
      "text/plain": [
       "'Example 36: label setosa(0): features [5.5 3.5 1.3 0.2]'"
      ]
     },
     "metadata": {},
     "output_type": "display_data"
    },
    {
     "data": {
      "text/plain": [
       "'Example 37: label setosa(0): features [4.9 3.6 1.4 0.1]'"
      ]
     },
     "metadata": {},
     "output_type": "display_data"
    },
    {
     "data": {
      "text/plain": [
       "'Example 38: label setosa(0): features [4.4 3.  1.3 0.2]'"
      ]
     },
     "metadata": {},
     "output_type": "display_data"
    },
    {
     "data": {
      "text/plain": [
       "'Example 39: label setosa(0): features [5.1 3.4 1.5 0.2]'"
      ]
     },
     "metadata": {},
     "output_type": "display_data"
    },
    {
     "data": {
      "text/plain": [
       "'Example 40: label setosa(0): features [5.  3.5 1.3 0.3]'"
      ]
     },
     "metadata": {},
     "output_type": "display_data"
    },
    {
     "data": {
      "text/plain": [
       "'Example 41: label setosa(0): features [4.5 2.3 1.3 0.3]'"
      ]
     },
     "metadata": {},
     "output_type": "display_data"
    },
    {
     "data": {
      "text/plain": [
       "'Example 42: label setosa(0): features [4.4 3.2 1.3 0.2]'"
      ]
     },
     "metadata": {},
     "output_type": "display_data"
    },
    {
     "data": {
      "text/plain": [
       "'Example 43: label setosa(0): features [5.  3.5 1.6 0.6]'"
      ]
     },
     "metadata": {},
     "output_type": "display_data"
    },
    {
     "data": {
      "text/plain": [
       "'Example 44: label setosa(0): features [5.1 3.8 1.9 0.4]'"
      ]
     },
     "metadata": {},
     "output_type": "display_data"
    },
    {
     "data": {
      "text/plain": [
       "'Example 45: label setosa(0): features [4.8 3.  1.4 0.3]'"
      ]
     },
     "metadata": {},
     "output_type": "display_data"
    },
    {
     "data": {
      "text/plain": [
       "'Example 46: label setosa(0): features [5.1 3.8 1.6 0.2]'"
      ]
     },
     "metadata": {},
     "output_type": "display_data"
    },
    {
     "data": {
      "text/plain": [
       "'Example 47: label setosa(0): features [4.6 3.2 1.4 0.2]'"
      ]
     },
     "metadata": {},
     "output_type": "display_data"
    },
    {
     "data": {
      "text/plain": [
       "'Example 48: label setosa(0): features [5.3 3.7 1.5 0.2]'"
      ]
     },
     "metadata": {},
     "output_type": "display_data"
    },
    {
     "data": {
      "text/plain": [
       "'Example 49: label setosa(0): features [5.  3.3 1.4 0.2]'"
      ]
     },
     "metadata": {},
     "output_type": "display_data"
    },
    {
     "data": {
      "text/plain": [
       "'Example 50: label versicolor(1): features [7.  3.2 4.7 1.4]'"
      ]
     },
     "metadata": {},
     "output_type": "display_data"
    },
    {
     "data": {
      "text/plain": [
       "'Example 51: label versicolor(1): features [6.4 3.2 4.5 1.5]'"
      ]
     },
     "metadata": {},
     "output_type": "display_data"
    },
    {
     "data": {
      "text/plain": [
       "'Example 52: label versicolor(1): features [6.9 3.1 4.9 1.5]'"
      ]
     },
     "metadata": {},
     "output_type": "display_data"
    },
    {
     "data": {
      "text/plain": [
       "'Example 53: label versicolor(1): features [5.5 2.3 4.  1.3]'"
      ]
     },
     "metadata": {},
     "output_type": "display_data"
    },
    {
     "data": {
      "text/plain": [
       "'Example 54: label versicolor(1): features [6.5 2.8 4.6 1.5]'"
      ]
     },
     "metadata": {},
     "output_type": "display_data"
    },
    {
     "data": {
      "text/plain": [
       "'Example 55: label versicolor(1): features [5.7 2.8 4.5 1.3]'"
      ]
     },
     "metadata": {},
     "output_type": "display_data"
    },
    {
     "data": {
      "text/plain": [
       "'Example 56: label versicolor(1): features [6.3 3.3 4.7 1.6]'"
      ]
     },
     "metadata": {},
     "output_type": "display_data"
    },
    {
     "data": {
      "text/plain": [
       "'Example 57: label versicolor(1): features [4.9 2.4 3.3 1. ]'"
      ]
     },
     "metadata": {},
     "output_type": "display_data"
    },
    {
     "data": {
      "text/plain": [
       "'Example 58: label versicolor(1): features [6.6 2.9 4.6 1.3]'"
      ]
     },
     "metadata": {},
     "output_type": "display_data"
    },
    {
     "data": {
      "text/plain": [
       "'Example 59: label versicolor(1): features [5.2 2.7 3.9 1.4]'"
      ]
     },
     "metadata": {},
     "output_type": "display_data"
    },
    {
     "data": {
      "text/plain": [
       "'Example 60: label versicolor(1): features [5.  2.  3.5 1. ]'"
      ]
     },
     "metadata": {},
     "output_type": "display_data"
    },
    {
     "data": {
      "text/plain": [
       "'Example 61: label versicolor(1): features [5.9 3.  4.2 1.5]'"
      ]
     },
     "metadata": {},
     "output_type": "display_data"
    },
    {
     "data": {
      "text/plain": [
       "'Example 62: label versicolor(1): features [6.  2.2 4.  1. ]'"
      ]
     },
     "metadata": {},
     "output_type": "display_data"
    },
    {
     "data": {
      "text/plain": [
       "'Example 63: label versicolor(1): features [6.1 2.9 4.7 1.4]'"
      ]
     },
     "metadata": {},
     "output_type": "display_data"
    },
    {
     "data": {
      "text/plain": [
       "'Example 64: label versicolor(1): features [5.6 2.9 3.6 1.3]'"
      ]
     },
     "metadata": {},
     "output_type": "display_data"
    },
    {
     "data": {
      "text/plain": [
       "'Example 65: label versicolor(1): features [6.7 3.1 4.4 1.4]'"
      ]
     },
     "metadata": {},
     "output_type": "display_data"
    },
    {
     "data": {
      "text/plain": [
       "'Example 66: label versicolor(1): features [5.6 3.  4.5 1.5]'"
      ]
     },
     "metadata": {},
     "output_type": "display_data"
    },
    {
     "data": {
      "text/plain": [
       "'Example 67: label versicolor(1): features [5.8 2.7 4.1 1. ]'"
      ]
     },
     "metadata": {},
     "output_type": "display_data"
    },
    {
     "data": {
      "text/plain": [
       "'Example 68: label versicolor(1): features [6.2 2.2 4.5 1.5]'"
      ]
     },
     "metadata": {},
     "output_type": "display_data"
    },
    {
     "data": {
      "text/plain": [
       "'Example 69: label versicolor(1): features [5.6 2.5 3.9 1.1]'"
      ]
     },
     "metadata": {},
     "output_type": "display_data"
    },
    {
     "data": {
      "text/plain": [
       "'Example 70: label versicolor(1): features [5.9 3.2 4.8 1.8]'"
      ]
     },
     "metadata": {},
     "output_type": "display_data"
    },
    {
     "data": {
      "text/plain": [
       "'Example 71: label versicolor(1): features [6.1 2.8 4.  1.3]'"
      ]
     },
     "metadata": {},
     "output_type": "display_data"
    },
    {
     "data": {
      "text/plain": [
       "'Example 72: label versicolor(1): features [6.3 2.5 4.9 1.5]'"
      ]
     },
     "metadata": {},
     "output_type": "display_data"
    },
    {
     "data": {
      "text/plain": [
       "'Example 73: label versicolor(1): features [6.1 2.8 4.7 1.2]'"
      ]
     },
     "metadata": {},
     "output_type": "display_data"
    },
    {
     "data": {
      "text/plain": [
       "'Example 74: label versicolor(1): features [6.4 2.9 4.3 1.3]'"
      ]
     },
     "metadata": {},
     "output_type": "display_data"
    },
    {
     "data": {
      "text/plain": [
       "'Example 75: label versicolor(1): features [6.6 3.  4.4 1.4]'"
      ]
     },
     "metadata": {},
     "output_type": "display_data"
    },
    {
     "data": {
      "text/plain": [
       "'Example 76: label versicolor(1): features [6.8 2.8 4.8 1.4]'"
      ]
     },
     "metadata": {},
     "output_type": "display_data"
    },
    {
     "data": {
      "text/plain": [
       "'Example 77: label versicolor(1): features [6.7 3.  5.  1.7]'"
      ]
     },
     "metadata": {},
     "output_type": "display_data"
    },
    {
     "data": {
      "text/plain": [
       "'Example 78: label versicolor(1): features [6.  2.9 4.5 1.5]'"
      ]
     },
     "metadata": {},
     "output_type": "display_data"
    },
    {
     "data": {
      "text/plain": [
       "'Example 79: label versicolor(1): features [5.7 2.6 3.5 1. ]'"
      ]
     },
     "metadata": {},
     "output_type": "display_data"
    },
    {
     "data": {
      "text/plain": [
       "'Example 80: label versicolor(1): features [5.5 2.4 3.8 1.1]'"
      ]
     },
     "metadata": {},
     "output_type": "display_data"
    },
    {
     "data": {
      "text/plain": [
       "'Example 81: label versicolor(1): features [5.5 2.4 3.7 1. ]'"
      ]
     },
     "metadata": {},
     "output_type": "display_data"
    },
    {
     "data": {
      "text/plain": [
       "'Example 82: label versicolor(1): features [5.8 2.7 3.9 1.2]'"
      ]
     },
     "metadata": {},
     "output_type": "display_data"
    },
    {
     "data": {
      "text/plain": [
       "'Example 83: label versicolor(1): features [6.  2.7 5.1 1.6]'"
      ]
     },
     "metadata": {},
     "output_type": "display_data"
    },
    {
     "data": {
      "text/plain": [
       "'Example 84: label versicolor(1): features [5.4 3.  4.5 1.5]'"
      ]
     },
     "metadata": {},
     "output_type": "display_data"
    },
    {
     "data": {
      "text/plain": [
       "'Example 85: label versicolor(1): features [6.  3.4 4.5 1.6]'"
      ]
     },
     "metadata": {},
     "output_type": "display_data"
    },
    {
     "data": {
      "text/plain": [
       "'Example 86: label versicolor(1): features [6.7 3.1 4.7 1.5]'"
      ]
     },
     "metadata": {},
     "output_type": "display_data"
    },
    {
     "data": {
      "text/plain": [
       "'Example 87: label versicolor(1): features [6.3 2.3 4.4 1.3]'"
      ]
     },
     "metadata": {},
     "output_type": "display_data"
    },
    {
     "data": {
      "text/plain": [
       "'Example 88: label versicolor(1): features [5.6 3.  4.1 1.3]'"
      ]
     },
     "metadata": {},
     "output_type": "display_data"
    },
    {
     "data": {
      "text/plain": [
       "'Example 89: label versicolor(1): features [5.5 2.5 4.  1.3]'"
      ]
     },
     "metadata": {},
     "output_type": "display_data"
    },
    {
     "data": {
      "text/plain": [
       "'Example 90: label versicolor(1): features [5.5 2.6 4.4 1.2]'"
      ]
     },
     "metadata": {},
     "output_type": "display_data"
    },
    {
     "data": {
      "text/plain": [
       "'Example 91: label versicolor(1): features [6.1 3.  4.6 1.4]'"
      ]
     },
     "metadata": {},
     "output_type": "display_data"
    },
    {
     "data": {
      "text/plain": [
       "'Example 92: label versicolor(1): features [5.8 2.6 4.  1.2]'"
      ]
     },
     "metadata": {},
     "output_type": "display_data"
    },
    {
     "data": {
      "text/plain": [
       "'Example 93: label versicolor(1): features [5.  2.3 3.3 1. ]'"
      ]
     },
     "metadata": {},
     "output_type": "display_data"
    },
    {
     "data": {
      "text/plain": [
       "'Example 94: label versicolor(1): features [5.6 2.7 4.2 1.3]'"
      ]
     },
     "metadata": {},
     "output_type": "display_data"
    },
    {
     "data": {
      "text/plain": [
       "'Example 95: label versicolor(1): features [5.7 3.  4.2 1.2]'"
      ]
     },
     "metadata": {},
     "output_type": "display_data"
    },
    {
     "data": {
      "text/plain": [
       "'Example 96: label versicolor(1): features [5.7 2.9 4.2 1.3]'"
      ]
     },
     "metadata": {},
     "output_type": "display_data"
    },
    {
     "data": {
      "text/plain": [
       "'Example 97: label versicolor(1): features [6.2 2.9 4.3 1.3]'"
      ]
     },
     "metadata": {},
     "output_type": "display_data"
    },
    {
     "data": {
      "text/plain": [
       "'Example 98: label versicolor(1): features [5.1 2.5 3.  1.1]'"
      ]
     },
     "metadata": {},
     "output_type": "display_data"
    },
    {
     "data": {
      "text/plain": [
       "'Example 99: label versicolor(1): features [5.7 2.8 4.1 1.3]'"
      ]
     },
     "metadata": {},
     "output_type": "display_data"
    },
    {
     "data": {
      "text/plain": [
       "'Example 100: label virginica(2): features [6.3 3.3 6.  2.5]'"
      ]
     },
     "metadata": {},
     "output_type": "display_data"
    },
    {
     "data": {
      "text/plain": [
       "'Example 101: label virginica(2): features [5.8 2.7 5.1 1.9]'"
      ]
     },
     "metadata": {},
     "output_type": "display_data"
    },
    {
     "data": {
      "text/plain": [
       "'Example 102: label virginica(2): features [7.1 3.  5.9 2.1]'"
      ]
     },
     "metadata": {},
     "output_type": "display_data"
    },
    {
     "data": {
      "text/plain": [
       "'Example 103: label virginica(2): features [6.3 2.9 5.6 1.8]'"
      ]
     },
     "metadata": {},
     "output_type": "display_data"
    },
    {
     "data": {
      "text/plain": [
       "'Example 104: label virginica(2): features [6.5 3.  5.8 2.2]'"
      ]
     },
     "metadata": {},
     "output_type": "display_data"
    },
    {
     "data": {
      "text/plain": [
       "'Example 105: label virginica(2): features [7.6 3.  6.6 2.1]'"
      ]
     },
     "metadata": {},
     "output_type": "display_data"
    },
    {
     "data": {
      "text/plain": [
       "'Example 106: label virginica(2): features [4.9 2.5 4.5 1.7]'"
      ]
     },
     "metadata": {},
     "output_type": "display_data"
    },
    {
     "data": {
      "text/plain": [
       "'Example 107: label virginica(2): features [7.3 2.9 6.3 1.8]'"
      ]
     },
     "metadata": {},
     "output_type": "display_data"
    },
    {
     "data": {
      "text/plain": [
       "'Example 108: label virginica(2): features [6.7 2.5 5.8 1.8]'"
      ]
     },
     "metadata": {},
     "output_type": "display_data"
    },
    {
     "data": {
      "text/plain": [
       "'Example 109: label virginica(2): features [7.2 3.6 6.1 2.5]'"
      ]
     },
     "metadata": {},
     "output_type": "display_data"
    },
    {
     "data": {
      "text/plain": [
       "'Example 110: label virginica(2): features [6.5 3.2 5.1 2. ]'"
      ]
     },
     "metadata": {},
     "output_type": "display_data"
    },
    {
     "data": {
      "text/plain": [
       "'Example 111: label virginica(2): features [6.4 2.7 5.3 1.9]'"
      ]
     },
     "metadata": {},
     "output_type": "display_data"
    },
    {
     "data": {
      "text/plain": [
       "'Example 112: label virginica(2): features [6.8 3.  5.5 2.1]'"
      ]
     },
     "metadata": {},
     "output_type": "display_data"
    },
    {
     "data": {
      "text/plain": [
       "'Example 113: label virginica(2): features [5.7 2.5 5.  2. ]'"
      ]
     },
     "metadata": {},
     "output_type": "display_data"
    },
    {
     "data": {
      "text/plain": [
       "'Example 114: label virginica(2): features [5.8 2.8 5.1 2.4]'"
      ]
     },
     "metadata": {},
     "output_type": "display_data"
    },
    {
     "data": {
      "text/plain": [
       "'Example 115: label virginica(2): features [6.4 3.2 5.3 2.3]'"
      ]
     },
     "metadata": {},
     "output_type": "display_data"
    },
    {
     "data": {
      "text/plain": [
       "'Example 116: label virginica(2): features [6.5 3.  5.5 1.8]'"
      ]
     },
     "metadata": {},
     "output_type": "display_data"
    },
    {
     "data": {
      "text/plain": [
       "'Example 117: label virginica(2): features [7.7 3.8 6.7 2.2]'"
      ]
     },
     "metadata": {},
     "output_type": "display_data"
    },
    {
     "data": {
      "text/plain": [
       "'Example 118: label virginica(2): features [7.7 2.6 6.9 2.3]'"
      ]
     },
     "metadata": {},
     "output_type": "display_data"
    },
    {
     "data": {
      "text/plain": [
       "'Example 119: label virginica(2): features [6.  2.2 5.  1.5]'"
      ]
     },
     "metadata": {},
     "output_type": "display_data"
    },
    {
     "data": {
      "text/plain": [
       "'Example 120: label virginica(2): features [6.9 3.2 5.7 2.3]'"
      ]
     },
     "metadata": {},
     "output_type": "display_data"
    },
    {
     "data": {
      "text/plain": [
       "'Example 121: label virginica(2): features [5.6 2.8 4.9 2. ]'"
      ]
     },
     "metadata": {},
     "output_type": "display_data"
    },
    {
     "data": {
      "text/plain": [
       "'Example 122: label virginica(2): features [7.7 2.8 6.7 2. ]'"
      ]
     },
     "metadata": {},
     "output_type": "display_data"
    },
    {
     "data": {
      "text/plain": [
       "'Example 123: label virginica(2): features [6.3 2.7 4.9 1.8]'"
      ]
     },
     "metadata": {},
     "output_type": "display_data"
    },
    {
     "data": {
      "text/plain": [
       "'Example 124: label virginica(2): features [6.7 3.3 5.7 2.1]'"
      ]
     },
     "metadata": {},
     "output_type": "display_data"
    },
    {
     "data": {
      "text/plain": [
       "'Example 125: label virginica(2): features [7.2 3.2 6.  1.8]'"
      ]
     },
     "metadata": {},
     "output_type": "display_data"
    },
    {
     "data": {
      "text/plain": [
       "'Example 126: label virginica(2): features [6.2 2.8 4.8 1.8]'"
      ]
     },
     "metadata": {},
     "output_type": "display_data"
    },
    {
     "data": {
      "text/plain": [
       "'Example 127: label virginica(2): features [6.1 3.  4.9 1.8]'"
      ]
     },
     "metadata": {},
     "output_type": "display_data"
    },
    {
     "data": {
      "text/plain": [
       "'Example 128: label virginica(2): features [6.4 2.8 5.6 2.1]'"
      ]
     },
     "metadata": {},
     "output_type": "display_data"
    },
    {
     "data": {
      "text/plain": [
       "'Example 129: label virginica(2): features [7.2 3.  5.8 1.6]'"
      ]
     },
     "metadata": {},
     "output_type": "display_data"
    },
    {
     "data": {
      "text/plain": [
       "'Example 130: label virginica(2): features [7.4 2.8 6.1 1.9]'"
      ]
     },
     "metadata": {},
     "output_type": "display_data"
    },
    {
     "data": {
      "text/plain": [
       "'Example 131: label virginica(2): features [7.9 3.8 6.4 2. ]'"
      ]
     },
     "metadata": {},
     "output_type": "display_data"
    },
    {
     "data": {
      "text/plain": [
       "'Example 132: label virginica(2): features [6.4 2.8 5.6 2.2]'"
      ]
     },
     "metadata": {},
     "output_type": "display_data"
    },
    {
     "data": {
      "text/plain": [
       "'Example 133: label virginica(2): features [6.3 2.8 5.1 1.5]'"
      ]
     },
     "metadata": {},
     "output_type": "display_data"
    },
    {
     "data": {
      "text/plain": [
       "'Example 134: label virginica(2): features [6.1 2.6 5.6 1.4]'"
      ]
     },
     "metadata": {},
     "output_type": "display_data"
    },
    {
     "data": {
      "text/plain": [
       "'Example 135: label virginica(2): features [7.7 3.  6.1 2.3]'"
      ]
     },
     "metadata": {},
     "output_type": "display_data"
    },
    {
     "data": {
      "text/plain": [
       "'Example 136: label virginica(2): features [6.3 3.4 5.6 2.4]'"
      ]
     },
     "metadata": {},
     "output_type": "display_data"
    },
    {
     "data": {
      "text/plain": [
       "'Example 137: label virginica(2): features [6.4 3.1 5.5 1.8]'"
      ]
     },
     "metadata": {},
     "output_type": "display_data"
    },
    {
     "data": {
      "text/plain": [
       "'Example 138: label virginica(2): features [6.  3.  4.8 1.8]'"
      ]
     },
     "metadata": {},
     "output_type": "display_data"
    },
    {
     "data": {
      "text/plain": [
       "'Example 139: label virginica(2): features [6.9 3.1 5.4 2.1]'"
      ]
     },
     "metadata": {},
     "output_type": "display_data"
    },
    {
     "data": {
      "text/plain": [
       "'Example 140: label virginica(2): features [6.7 3.1 5.6 2.4]'"
      ]
     },
     "metadata": {},
     "output_type": "display_data"
    },
    {
     "data": {
      "text/plain": [
       "'Example 141: label virginica(2): features [6.9 3.1 5.1 2.3]'"
      ]
     },
     "metadata": {},
     "output_type": "display_data"
    },
    {
     "data": {
      "text/plain": [
       "'Example 142: label virginica(2): features [5.8 2.7 5.1 1.9]'"
      ]
     },
     "metadata": {},
     "output_type": "display_data"
    },
    {
     "data": {
      "text/plain": [
       "'Example 143: label virginica(2): features [6.8 3.2 5.9 2.3]'"
      ]
     },
     "metadata": {},
     "output_type": "display_data"
    },
    {
     "data": {
      "text/plain": [
       "'Example 144: label virginica(2): features [6.7 3.3 5.7 2.5]'"
      ]
     },
     "metadata": {},
     "output_type": "display_data"
    },
    {
     "data": {
      "text/plain": [
       "'Example 145: label virginica(2): features [6.7 3.  5.2 2.3]'"
      ]
     },
     "metadata": {},
     "output_type": "display_data"
    },
    {
     "data": {
      "text/plain": [
       "'Example 146: label virginica(2): features [6.3 2.5 5.  1.9]'"
      ]
     },
     "metadata": {},
     "output_type": "display_data"
    },
    {
     "data": {
      "text/plain": [
       "'Example 147: label virginica(2): features [6.5 3.  5.2 2. ]'"
      ]
     },
     "metadata": {},
     "output_type": "display_data"
    },
    {
     "data": {
      "text/plain": [
       "'Example 148: label virginica(2): features [6.2 3.4 5.4 2.3]'"
      ]
     },
     "metadata": {},
     "output_type": "display_data"
    },
    {
     "data": {
      "text/plain": [
       "'Example 149: label virginica(2): features [5.9 3.  5.1 1.8]'"
      ]
     },
     "metadata": {},
     "output_type": "display_data"
    }
   ],
   "source": [
    "#\n",
    "# Print out entire dataset with target names \n",
    "# instead of index\n",
    "#\n",
    "for i in range(len(iris.target)):\n",
    "    print(f\"Example {i}: label {iris.target_names[iris.target[i]]}({iris.target[i]}): features {iris.data[i]}\")"
   ]
  },
  {
   "cell_type": "code",
   "execution_count": 34,
   "id": "64894bf8-6fbe-41d2-890f-ba79f710e173",
   "metadata": {},
   "outputs": [
    {
     "data": {
      "text/plain": [
       "array([0, 1, 2])"
      ]
     },
     "metadata": {},
     "output_type": "display_data"
    }
   ],
   "source": [
    "from IPython.display import display as print\n",
    "\n",
    "import numpy as np\n",
    "from sklearn.datasets import load_iris\n",
    "from sklearn import tree\n",
    "\n",
    "iris = load_iris()\n",
    "test_idx = [0, 50, 100]\n",
    "\n",
    "# training data\n",
    "train_target = np.delete(iris.target, test_idx)\n",
    "train_data = np.delete(iris.data, test_idx, axis=0)\n",
    "\n",
    "# testing data\n",
    "test_target = iris.target[test_idx]\n",
    "test_data = iris.data[test_idx]\n",
    "\n",
    "# create new classifier\n",
    "clf = tree.DecisionTreeClassifier()\n",
    "# train on training data\n",
    "clf.fit(train_data, train_target)\n",
    "\n",
    "# What to expect\n",
    "print(test_target)"
   ]
  },
  {
   "cell_type": "code",
   "execution_count": 35,
   "id": "5ec042df-f29b-42e5-9e47-a654cc6a92ac",
   "metadata": {},
   "outputs": [
    {
     "data": {
      "text/plain": [
       "array([0, 1, 2])"
      ]
     },
     "metadata": {},
     "output_type": "display_data"
    }
   ],
   "source": [
    "# What the tree predicts\n",
    "print(clf.predict(test_data))"
   ]
  },
  {
   "cell_type": "code",
   "execution_count": 30,
   "id": "03a7a8df-c626-4a05-b4bd-e1a12aaf8134",
   "metadata": {},
   "outputs": [
    {
     "data": {
      "text/plain": [
       "True"
      ]
     },
     "execution_count": 30,
     "metadata": {},
     "output_type": "execute_result"
    }
   ],
   "source": [
    "# Visualize\n",
    "# from scikit decision tree tutorial: http://scikit-learn.org/stable/modules/tree.html\n",
    "from six import StringIO\n",
    "import pydotplus\n",
    "\n",
    "dot_data = StringIO()\n",
    "tree.export_graphviz(clf, out_file=dot_data,\n",
    "                     feature_names=iris.feature_names,\n",
    "                     class_names=iris.target_names,\n",
    "                     filled=True, rounded=True,\n",
    "                     impurity=False)\n",
    "\n",
    "graph = pydotplus.graph_from_dot_data(dot_data.getvalue())\n",
    "graph.write_pdf(\"iris.pdf\")\n",
    "\n"
   ]
  },
  {
   "cell_type": "code",
   "execution_count": null,
   "id": "f8556e03-b297-4c44-b3a8-91fc5abd7396",
   "metadata": {},
   "outputs": [],
   "source": []
  }
 ],
 "metadata": {
  "kernelspec": {
   "display_name": "local-venv-kernel",
   "language": "python",
   "name": "local-venv-kernel"
  },
  "language_info": {
   "codemirror_mode": {
    "name": "ipython",
    "version": 3
   },
   "file_extension": ".py",
   "mimetype": "text/x-python",
   "name": "python",
   "nbconvert_exporter": "python",
   "pygments_lexer": "ipython3",
   "version": "3.10.3"
  }
 },
 "nbformat": 4,
 "nbformat_minor": 5
}
