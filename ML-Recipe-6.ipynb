{
 "cells": [
  {
   "cell_type": "code",
   "execution_count": null,
   "id": "39f2bebe-bc56-4799-962b-d89303e3dd6a",
   "metadata": {},
   "outputs": [],
   "source": [
    "# TF Learn\n",
    "from sklearn import metrics, model_selection\n",
    "import tensorflow as tf\n",
    "from tensorflow.contrib import learn\n",
    "\n",
    "def main(unused_argv):\n",
    "    # Load Dataset\n",
    "    iris = learn.datasets.load_datasets('iris')\n",
    "    x_train, x_test, y_train, y_test = model_selection.train_test_split(iris.data, iris.target, test_size=0.2, random_state=42)\n",
    "\n",
    "    classifier = learn.DNNClassifier(hidden_units=[10, 20, 10], n_classes=3)\n",
    "\n",
    "    # Fit and predict\n",
    "    classifier.fit(x_train, y_train, steps=200)\n",
    "    score = metircs.accuracy_score(y_test, classifier.predict(x_test))\n",
    "    print('Accuracy: {0:f}'.format(score))\n",
    "    \n",
    "\n",
    "\n",
    "\n"
   ]
  }
 ],
 "metadata": {
  "kernelspec": {
   "display_name": "local-venv-kernel",
   "language": "python",
   "name": "local-venv-kernel"
  },
  "language_info": {
   "codemirror_mode": {
    "name": "ipython",
    "version": 3
   },
   "file_extension": ".py",
   "mimetype": "text/x-python",
   "name": "python",
   "nbconvert_exporter": "python",
   "pygments_lexer": "ipython3",
   "version": "3.10.3"
  }
 },
 "nbformat": 4,
 "nbformat_minor": 5
}
